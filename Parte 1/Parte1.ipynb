{
  "cells": [
    {
      "cell_type": "markdown",
      "metadata": {
        "id": "view-in-github",
        "colab_type": "text"
      },
      "source": [
        "<a href=\"https://colab.research.google.com/github/ra4ola/APA-Assigment2/blob/main/Parte%201/Parte1.ipynb\" target=\"_parent\"><img src=\"https://colab.research.google.com/assets/colab-badge.svg\" alt=\"Open In Colab\"/></a>"
      ]
    },
    {
      "cell_type": "markdown",
      "source": [
        "# Imports"
      ],
      "metadata": {
        "id": "hDL8ISWnoLDo"
      }
    },
    {
      "cell_type": "code",
      "source": [
        "from torch.nn.modules.flatten import Flatten\n",
        "import torch\n",
        "import torch.nn as nn\n",
        "import torch.optim as optim\n",
        "from torch.utils.data import DataLoader\n",
        "from torchvision import datasets, transforms\n",
        "import matplotlib.pyplot as plt\n",
        "import os\n",
        "from google.colab import drive\n",
        "import torch.nn.functional as F"
      ],
      "metadata": {
        "id": "1uLWeEmeoSBc"
      },
      "execution_count": 44,
      "outputs": []
    },
    {
      "cell_type": "markdown",
      "source": [
        "# Mount Drive"
      ],
      "metadata": {
        "id": "wz7uj0CTnJhq"
      }
    },
    {
      "cell_type": "code",
      "source": [
        "drive.mount('/content/drive')"
      ],
      "metadata": {
        "id": "3k2zP4HVO1ui",
        "colab": {
          "base_uri": "https://localhost:8080/"
        },
        "outputId": "0b858a90-bd83-4f77-d4a4-806054a2a66a"
      },
      "execution_count": 24,
      "outputs": [
        {
          "output_type": "stream",
          "name": "stdout",
          "text": [
            "Drive already mounted at /content/drive; to attempt to forcibly remount, call drive.mount(\"/content/drive\", force_remount=True).\n"
          ]
        }
      ]
    },
    {
      "cell_type": "markdown",
      "source": [
        "# Definição de Variáveis"
      ],
      "metadata": {
        "id": "xJY0boP2oQzl"
      }
    },
    {
      "cell_type": "code",
      "source": [
        "PATH = '/content/drive/MyDrive/APA/Assigment2/Parte3'"
      ],
      "metadata": {
        "id": "QqsvTWy1OuYG"
      },
      "execution_count": 25,
      "outputs": []
    },
    {
      "cell_type": "code",
      "source": [
        "image_size = 28\n",
        "lr = 0.001\n",
        "device = torch.device(\"cuda\" if torch.cuda.is_available() else \"cpu\")\n",
        "torch.manual_seed(42)"
      ],
      "metadata": {
        "id": "sNDE3f4Soej3",
        "colab": {
          "base_uri": "https://localhost:8080/"
        },
        "outputId": "3fff0b0c-8306-4c47-d8de-93cad441b819"
      },
      "execution_count": 26,
      "outputs": [
        {
          "output_type": "execute_result",
          "data": {
            "text/plain": [
              "<torch._C.Generator at 0x7d1a542c1630>"
            ]
          },
          "metadata": {},
          "execution_count": 26
        }
      ]
    },
    {
      "cell_type": "markdown",
      "source": [
        "# Modelos\n"
      ],
      "metadata": {
        "id": "c8cBMdp9oyMj"
      }
    },
    {
      "cell_type": "code",
      "execution_count": 43,
      "metadata": {
        "id": "inO5ABCJXK2E"
      },
      "outputs": [],
      "source": [
        "# @title AE\n",
        "\n",
        "class AE(nn.Module):\n",
        "    def __init__(self):\n",
        "        super(AE, self).__init__()\n",
        "        self.encoder_conv = nn.Sequential(\n",
        "\n",
        "            nn.Conv2d(in_channels=1, out_channels=8, kernel_size=3, stride=2, padding=1),\n",
        "            nn.BatchNorm2d(8),\n",
        "            nn.ELU(),\n",
        "\n",
        "            nn.Conv2d(in_channels=8, out_channels=32, kernel_size=3, stride=1, padding=1),\n",
        "            nn.BatchNorm2d(32),\n",
        "            nn.ELU(),\n",
        "\n",
        "            nn.Conv2d(in_channels=32, out_channels=64, kernel_size=3, stride=1, padding=1),\n",
        "            nn.BatchNorm2d(64),\n",
        "            nn.ELU(),\n",
        "\n",
        "            nn.Conv2d(in_channels=64, out_channels=128, kernel_size=3, stride=1, padding=1),\n",
        "            nn.BatchNorm2d(128),\n",
        "            nn.ELU(),\n",
        "\n",
        "            nn.Conv2d(in_channels=128, out_channels=16, kernel_size=3, stride=1, padding=1),\n",
        "            nn.BatchNorm2d(16),\n",
        "            nn.ELU()\n",
        "        )\n",
        "        self.decoder_conv = nn.Sequential(\n",
        "\n",
        "         nn.ConvTranspose2d(in_channels=16, out_channels=128, kernel_size=3, stride=1, padding=1),\n",
        "         nn.BatchNorm2d(128),\n",
        "         nn.ELU(),\n",
        "\n",
        "         nn.ConvTranspose2d(in_channels=128, out_channels=64, kernel_size=3, stride=1, padding=1),\n",
        "         nn.BatchNorm2d(64),\n",
        "         nn.ELU(),\n",
        "\n",
        "         nn.ConvTranspose2d(in_channels=64, out_channels=32, kernel_size=3, stride=1, padding=1),\n",
        "         nn.BatchNorm2d(32),\n",
        "         nn.ELU(),\n",
        "\n",
        "         nn.ConvTranspose2d(in_channels=32, out_channels=8, kernel_size=3, stride=1, padding=1),\n",
        "         nn.BatchNorm2d(8),\n",
        "         nn.ELU(),\n",
        "\n",
        "         nn.Upsample(scale_factor=2, mode='nearest'),  # Upsample\n",
        "         nn.ConvTranspose2d(in_channels=8, out_channels=1, kernel_size=3, stride=1, padding=1),\n",
        "         nn.BatchNorm2d(1),\n",
        "         nn.Sigmoid()\n",
        "        )\n",
        "\n",
        "    def forward(self, x):\n",
        "        x = self.encoder_conv(x)\n",
        "        x = self.decoder_conv(x)\n",
        "        return x"
      ]
    },
    {
      "cell_type": "code",
      "source": [
        "# @title VAE\n",
        "class VAE(nn.Module):\n",
        "    def __init__(self):\n",
        "      super(VAE, self).__init__()\n",
        "      self.encoder_conv = nn.Sequential(\n",
        "          nn.Conv2d(1, 8, 3, 2, 1),\n",
        "          nn.BatchNorm2d(8),\n",
        "          nn.ELU(inplace=True),\n",
        "\n",
        "          nn.Conv2d(8, 32, 3, 1, 1),\n",
        "          nn.BatchNorm2d(32),\n",
        "          nn.ELU(inplace=True),\n",
        "\n",
        "          nn.Conv2d(32, 64, 3, 1, 1),\n",
        "          nn.BatchNorm2d(64),\n",
        "          nn.ELU(inplace=True),\n",
        "\n",
        "          nn.Conv2d(64, 128, 3, 1, 1),\n",
        "          nn.BatchNorm2d(128),\n",
        "          nn.ELU(inplace=True),\n",
        "        )\n",
        "\n",
        "      self.mean_layer = nn.Linear(128 * (image_size // 2) ** 2, 16)\n",
        "\n",
        "      self.logvar_layer = nn.Linear(128 * (image_size // 2) ** 2, 16)\n",
        "\n",
        "      self.decoder_conv = nn.Sequential(\n",
        "\n",
        "          nn.ConvTranspose2d(16, 128, 3, 1, 1),\n",
        "          nn.BatchNorm2d(128),\n",
        "          nn.ELU(inplace=True),\n",
        "\n",
        "          nn.ConvTranspose2d(128, 64, 3, 1, 1),\n",
        "          nn.BatchNorm2d(64),\n",
        "          nn.ELU(inplace=True),\n",
        "\n",
        "          nn.ConvTranspose2d(64, 32, 3, 1, 1),\n",
        "          nn.BatchNorm2d(32),\n",
        "          nn.ELU(inplace=True),\n",
        "\n",
        "          nn.ConvTranspose2d(32, 8, 3, 1, 1),\n",
        "          nn.BatchNorm2d(8),\n",
        "          nn.ELU(inplace=True),\n",
        "\n",
        "          nn.Upsample(scale_factor=2, mode='nearest'),\n",
        "          nn.ConvTranspose2d(8, 1, 3, 1, 1),\n",
        "          nn.BatchNorm2d(1),\n",
        "          nn.Sigmoid()\n",
        "        )\n",
        "\n",
        "    def forward(self, x):\n",
        "      x = add_noise()\n",
        "      x = self.encoder_conv(x)\n",
        "      x = x.view(x.size(0), -1)\n",
        "      mean, logvar = self.mean_layer(x), self.logvar_layer(x)\n",
        "      epsilon = torch.randn_like(torch.exp(0.5 * logvar)).to(device)\n",
        "      x = mean + logvar*epsilon\n",
        "      x = self.decoder_conv(x.view(x.size(0), 16, (image_size // 2), (image_size // 2)))\n",
        "      return x, mean, logvar\n",
        "\n"
      ],
      "metadata": {
        "id": "8Dp3ef5zR1Kr"
      },
      "execution_count": 28,
      "outputs": []
    },
    {
      "cell_type": "markdown",
      "source": [
        "## DAE"
      ],
      "metadata": {
        "id": "gH-zqPffaCEm"
      }
    },
    {
      "cell_type": "code",
      "source": [
        "# @title DAE\n",
        "\n",
        "class DAE(nn.Module):\n",
        "    def __init__(self):\n",
        "      super(DAE, self).__init__()\n",
        "      self.encoder = AE()\n",
        "\n",
        "    def forward(self, x):\n",
        "      x = add_noise(x)\n",
        "      x = self.encoder(x)\n",
        "      return x"
      ],
      "metadata": {
        "id": "lkypzqzhadr5"
      },
      "execution_count": 45,
      "outputs": []
    },
    {
      "cell_type": "markdown",
      "source": [
        "# Definição de Funções"
      ],
      "metadata": {
        "id": "VprhOk-XYrtJ"
      }
    },
    {
      "cell_type": "markdown",
      "source": [
        "### Funções de Construção das String para os Caminhos"
      ],
      "metadata": {
        "id": "Wv_GokhrYrzI"
      }
    },
    {
      "cell_type": "code",
      "source": [
        "def ModelDirStr(modelName,path = PATH):\n",
        "  return f\"{path}/{modelName}\"\n",
        "def pathModelStr(modelName,epoch, path = PATH):\n",
        "  return f\"{ModelDirStr(modelName,path)}/{modelName}_epoch={epoch}\""
      ],
      "metadata": {
        "id": "mjmgLRa7Wa-2"
      },
      "execution_count": 32,
      "outputs": []
    },
    {
      "cell_type": "markdown",
      "source": [
        "### Função para adicionar Noise"
      ],
      "metadata": {
        "id": "rGwBAp8-ZlJ9"
      }
    },
    {
      "cell_type": "code",
      "source": [
        "# @title Noise Fuction DAE\n",
        "\n",
        "def add_noise(data, noise_factor=0.5):\n",
        "    noisy_data = data + noise_factor * torch.randn_like(data)\n",
        "    return torch.clamp(noisy_data, 0., 1.)\n"
      ],
      "metadata": {
        "id": "F1FKpOrYZlR2"
      },
      "execution_count": 29,
      "outputs": []
    },
    {
      "cell_type": "markdown",
      "source": [
        "\n",
        "\n",
        "### Função de Treino\n"
      ],
      "metadata": {
        "id": "zXJB8A6qtlM5"
      }
    },
    {
      "cell_type": "code",
      "source": [
        "# @title Train Fuction\n",
        "\n",
        "def train(model, criterion, optimizer, train_loader, epochs, modelName, scheduler=None, path=PATH):\n",
        "    os.makedirs(ModelDirStr(modelName=modelName, path=path), exist_ok=True)\n",
        "\n",
        "    for epoch in range(epochs):\n",
        "        model.train()  # Set the model to training mode\n",
        "\n",
        "        for inputs, _ in train_loader:\n",
        "            inputs = inputs.to(device)\n",
        "            optimizer.zero_grad()\n",
        "\n",
        "            if isinstance(model, VAE):\n",
        "                outputs, mean, log_var = model(inputs)\n",
        "                reconstruction_loss = criterion(outputs, inputs)\n",
        "                kld_loss = -0.5 * torch.sum(1 + log_var - mean.pow(2) - log_var.exp())\n",
        "                loss = reconstruction_loss + kld_loss\n",
        "            else:\n",
        "                outputs = model(inputs)\n",
        "                loss = criterion(outputs, inputs)\n",
        "\n",
        "            loss.backward()\n",
        "            optimizer.step()\n",
        "\n",
        "        print(f\"Epoch [{epoch + 1}/{epochs}], Loss: {loss.item():.4f}\")\n",
        "\n",
        "        if scheduler is not None:\n",
        "            scheduler.step()\n",
        "\n",
        "        torch.save(model.state_dict(), pathModelStr(modelName=modelName, path=path, epoch=epoch))\n"
      ],
      "metadata": {
        "id": "CXqbiDr6siFo"
      },
      "execution_count": 31,
      "outputs": []
    },
    {
      "cell_type": "markdown",
      "source": [
        "### Função Display Images"
      ],
      "metadata": {
        "id": "hD2vu7sAYr-D"
      }
    },
    {
      "cell_type": "code",
      "source": [
        "# @title Image Reconstruction\n",
        "\n",
        "def reconstruction_images_plot(model,test_loader):\n",
        "  with torch.no_grad():\n",
        "    for data in test_loader:\n",
        "      inputs, _ = data\n",
        "      inputs = inputs.to(device)\n",
        "\n",
        "      outputs = model(inputs)\n",
        "\n",
        "      n = 10\n",
        "      plt.figure(figsize=(20, 4))\n",
        "      for i in range(n):\n",
        "        ax = plt.subplot(2, n, i + 1)\n",
        "        plt.imshow(inputs[i].cpu().view(28, 28).numpy(), cmap='gray')\n",
        "        plt.gray()\n",
        "        ax.get_xaxis().set_visible(False)\n",
        "        ax.get_yaxis().set_visible(False)\n",
        "        ax = plt.subplot(2, n, i + 1 + n)\n",
        "        plt.imshow(outputs[i].cpu().view(28, 28).numpy(), cmap='gray')\n",
        "        plt.gray()\n",
        "        ax.get_xaxis().set_visible(False)\n",
        "        ax.get_yaxis().set_visible(False)\n",
        "\n",
        "      plt.show()\n",
        "      break"
      ],
      "metadata": {
        "id": "Dg874-2PfEOI"
      },
      "execution_count": 46,
      "outputs": []
    },
    {
      "cell_type": "markdown",
      "source": [
        "### Função de Implementação das Perdas"
      ],
      "metadata": {
        "id": "pzrClY_WN41-"
      }
    },
    {
      "cell_type": "code",
      "source": [
        "# @title Evalute Training\n",
        "\n",
        "def evaluate_training(model, training_loader, loss_fn, num_epochs, modelName, path=PATH):\n",
        "    all_losses = []\n",
        "    all_kl_loss = []\n",
        "\n",
        "    # Load the model outside the epoch loop\n",
        "    model_path = pathModelStr(modelName=modelName, path=path, epoch=num_epochs - 1)\n",
        "    model = torch.load(model_path)\n",
        "    model.to(device)\n",
        "    model.eval()\n",
        "\n",
        "    for epoch in range(num_epochs):\n",
        "        running_loss = 0.0\n",
        "        running_kld = 0.0\n",
        "\n",
        "        with torch.no_grad():\n",
        "            for batch in training_loader:\n",
        "                inputs, targets = batch\n",
        "                inputs = inputs.to(device)\n",
        "\n",
        "                if isinstance(model, VAE):\n",
        "                    outputs, mean, log_var = model(inputs)\n",
        "                    reconstruction_loss = loss_fn(outputs, inputs)\n",
        "                    kld_loss = -0.5 * torch.sum(1 + log_var - mean.pow(2) - log_var.exp())\n",
        "                    loss = reconstruction_loss + kld_loss\n",
        "                else:\n",
        "                    outputs = model(inputs)\n",
        "                    loss = loss_fn(outputs, inputs)\n",
        "\n",
        "                running_loss += loss.item()\n",
        "                running_kld += kld_loss.item() if isinstance(model, VAE) else 0\n",
        "\n",
        "        all_losses.append(running_loss)\n",
        "        all_kl_loss.append(running_kld)\n",
        "\n",
        "        print(f'Epoch {epoch}: Validation Loss: {running_loss:.4f}, KL Divergence: {running_kld:.4f}')\n",
        "\n",
        "    return all_losses, all_kl_loss\n",
        "\n"
      ],
      "metadata": {
        "id": "rmxVpEWzN4Ui"
      },
      "execution_count": 47,
      "outputs": []
    },
    {
      "cell_type": "code",
      "source": [
        "# @title Plot Losses\n",
        "\n",
        "def plot_loss_accuracy(losses, Tittle = 'Traning Loss', curve_Label = 'Loss',X_axis_label = 'Epochs', Y_axis_Label = 'Loss'):\n",
        "    epochs = range(1, len(losses) + 1)\n",
        "\n",
        "    plt.figure(figsize=(12, 4))\n",
        "    plt.subplot(1, 2, 1)\n",
        "    plt.plot(epochs, losses, 'b', label=curve_Label)\n",
        "    plt.title(Tittle)\n",
        "    plt.xlabel(X_axis_label)\n",
        "    plt.ylabel(Y_axis_Label)\n",
        "    plt.legend()\n",
        "\n",
        "    plt.tight_layout()\n",
        "    plt.show()"
      ],
      "metadata": {
        "id": "_BofZJ2FUOqS"
      },
      "execution_count": 35,
      "outputs": []
    },
    {
      "cell_type": "markdown",
      "source": [
        "# Importação do DataSet"
      ],
      "metadata": {
        "id": "Fzlrpsivxgln"
      }
    },
    {
      "cell_type": "code",
      "source": [
        "transform = transforms.Compose([transforms.ToTensor(), transforms.Normalize((0.5,), (0.5,))])\n",
        "train_dataset = datasets.MNIST(root='./data', train=True, transform=transform, download=True)\n",
        "test_dataset = datasets.MNIST(root='./data', train=False, transform=transform)\n",
        "\n",
        "train_loader = DataLoader(dataset=train_dataset, batch_size=128, shuffle=True)\n",
        "test_loader = DataLoader(dataset=test_dataset, batch_size=128, shuffle=False)"
      ],
      "metadata": {
        "id": "TUP18T9logtY"
      },
      "execution_count": 36,
      "outputs": []
    },
    {
      "cell_type": "markdown",
      "source": [
        "# Implementação dos Modelos"
      ],
      "metadata": {
        "id": "kGJQ3159f62N"
      }
    },
    {
      "cell_type": "markdown",
      "source": [
        "## Inicialização do Modelo"
      ],
      "metadata": {
        "id": "WhG2zsKTMdlH"
      }
    },
    {
      "cell_type": "code",
      "source": [
        "epochs = 3\n",
        "ae = AE().to(device)\n",
        "vae = VAE().to(device)\n",
        "dae = DAE().to(device)\n",
        "\n",
        "criterion = nn.MSELoss()\n",
        "\n",
        "\n",
        "optimizerAE = optim.Adam(ae.parameters(), lr = lr)\n",
        "optimizerVAE = optim.Adam(vae.parameters(), lr = lr)\n",
        "optimizerDAE = optim.Adam(dae.parameters(), lr = lr)"
      ],
      "metadata": {
        "id": "Pzz82i7uf9xF"
      },
      "execution_count": 37,
      "outputs": []
    },
    {
      "cell_type": "markdown",
      "source": [
        "## AE Treino"
      ],
      "metadata": {
        "id": "cKBeijGGNy_A"
      }
    },
    {
      "cell_type": "code",
      "source": [
        "# @title Treino AE\n",
        "train(\n",
        "    model = ae,\n",
        "    criterion = criterion,\n",
        "    optimizer = optimizerAE,\n",
        "    train_loader = train_loader,\n",
        "    epochs = epochs,\n",
        "    modelName = \"AE\",\n",
        "    scheduler=None,\n",
        "    path = PATH\n",
        "  )"
      ],
      "metadata": {
        "id": "82e4A_RwgmXV",
        "colab": {
          "base_uri": "https://localhost:8080/"
        },
        "outputId": "f3b6927d-96a0-4432-d38e-84264431d42d"
      },
      "execution_count": 52,
      "outputs": [
        {
          "output_type": "stream",
          "name": "stdout",
          "text": [
            "Epoch [1/3], Loss: 0.8943\n",
            "Epoch [2/3], Loss: 0.8779\n",
            "Epoch [3/3], Loss: 0.8847\n"
          ]
        }
      ]
    },
    {
      "cell_type": "code",
      "source": [
        "# @title AE Losses Calculation\n",
        "loss,_ =evaluate_training(\n",
        "    training_loader = train_loader,\n",
        "    loss_fn = criterion,\n",
        "    num_epochs = epochs,\n",
        "    modelName = \"AE\",\n",
        "    path = PATH\n",
        "    )\n"
      ],
      "metadata": {
        "id": "eJSEQ1AGlKGl",
        "colab": {
          "base_uri": "https://localhost:8080/"
        },
        "outputId": "3613f6f5-577f-493a-86ed-d86d0928d63e"
      },
      "execution_count": 50,
      "outputs": [
        {
          "output_type": "error",
          "ename": "TypeError",
          "evalue": "ignored",
          "traceback": [
            "\u001b[0;31m---------------------------------------------------------------------------\u001b[0m",
            "\u001b[0;31mTypeError\u001b[0m                                 Traceback (most recent call last)",
            "\u001b[0;32m<ipython-input-50-1ea9e04672ad>\u001b[0m in \u001b[0;36m<cell line: 2>\u001b[0;34m()\u001b[0m\n\u001b[1;32m      1\u001b[0m \u001b[0;31m# @title AE Losses Calculation\u001b[0m\u001b[0;34m\u001b[0m\u001b[0;34m\u001b[0m\u001b[0m\n\u001b[0;32m----> 2\u001b[0;31m loss,_ =evaluate_training(\n\u001b[0m\u001b[1;32m      3\u001b[0m     \u001b[0mtraining_loader\u001b[0m \u001b[0;34m=\u001b[0m \u001b[0mtrain_loader\u001b[0m\u001b[0;34m,\u001b[0m\u001b[0;34m\u001b[0m\u001b[0;34m\u001b[0m\u001b[0m\n\u001b[1;32m      4\u001b[0m     \u001b[0mloss_fn\u001b[0m \u001b[0;34m=\u001b[0m \u001b[0mcriterion\u001b[0m\u001b[0;34m,\u001b[0m\u001b[0;34m\u001b[0m\u001b[0;34m\u001b[0m\u001b[0m\n\u001b[1;32m      5\u001b[0m     \u001b[0mnum_epochs\u001b[0m \u001b[0;34m=\u001b[0m \u001b[0mepochs\u001b[0m\u001b[0;34m,\u001b[0m\u001b[0;34m\u001b[0m\u001b[0;34m\u001b[0m\u001b[0m\n",
            "\u001b[0;31mTypeError\u001b[0m: evaluate_training() missing 1 required positional argument: 'model'"
          ]
        }
      ]
    },
    {
      "cell_type": "code",
      "source": [
        "# @title AE Plot Losses\n",
        "\n",
        "plot_loss_accuracy(losses = loss, Tittle = 'AE Loss')"
      ],
      "metadata": {
        "id": "yq4j2D5S3erW",
        "colab": {
          "base_uri": "https://localhost:8080/"
        },
        "outputId": "f2957603-e58f-4915-c7b1-a612a7c2a763"
      },
      "execution_count": 51,
      "outputs": [
        {
          "output_type": "error",
          "ename": "NameError",
          "evalue": "ignored",
          "traceback": [
            "\u001b[0;31m---------------------------------------------------------------------------\u001b[0m",
            "\u001b[0;31mNameError\u001b[0m                                 Traceback (most recent call last)",
            "\u001b[0;32m<ipython-input-51-809e93281645>\u001b[0m in \u001b[0;36m<cell line: 3>\u001b[0;34m()\u001b[0m\n\u001b[1;32m      1\u001b[0m \u001b[0;31m# @title AE Plot Losses\u001b[0m\u001b[0;34m\u001b[0m\u001b[0;34m\u001b[0m\u001b[0m\n\u001b[1;32m      2\u001b[0m \u001b[0;34m\u001b[0m\u001b[0m\n\u001b[0;32m----> 3\u001b[0;31m \u001b[0mplot_loss_accuracy\u001b[0m\u001b[0;34m(\u001b[0m\u001b[0mlosses\u001b[0m \u001b[0;34m=\u001b[0m \u001b[0mloss\u001b[0m\u001b[0;34m)\u001b[0m\u001b[0;34m\u001b[0m\u001b[0;34m\u001b[0m\u001b[0m\n\u001b[0m",
            "\u001b[0;31mNameError\u001b[0m: name 'loss' is not defined"
          ]
        }
      ]
    },
    {
      "cell_type": "markdown",
      "source": [
        "## DAE Treino"
      ],
      "metadata": {
        "id": "wxUnV0GtNxZX"
      }
    },
    {
      "cell_type": "code",
      "source": [
        "train(\n",
        "    model = dae,\n",
        "    criterion = criterion,\n",
        "    optimizer = optimizerAE,\n",
        "    train_loader = train_loader,\n",
        "    epochs = epochs,\n",
        "    modelName = \"DAE\",\n",
        "    scheduler=None,\n",
        "    path = PATH\n",
        "  )"
      ],
      "metadata": {
        "colab": {
          "base_uri": "https://localhost:8080/"
        },
        "id": "1vg2UgthM4Xf",
        "outputId": "090e651f-3bcd-40da-a56e-eed7ccf996e7"
      },
      "execution_count": 54,
      "outputs": [
        {
          "output_type": "stream",
          "name": "stdout",
          "text": [
            "Epoch [1/3], Loss: 1.9100\n",
            "Epoch [2/3], Loss: 1.9204\n",
            "Epoch [3/3], Loss: 1.9207\n"
          ]
        }
      ]
    },
    {
      "cell_type": "code",
      "source": [
        "loss,_ =evaluate_training(\n",
        "    training_loader = train_loader,\n",
        "    loss_fn = criterion,\n",
        "    num_epochs = epochs,\n",
        "    modelName = \"DAE\",\n",
        "    path = PATH\n",
        "  )"
      ],
      "metadata": {
        "id": "Mv_QbRqdNvbW"
      },
      "execution_count": null,
      "outputs": []
    },
    {
      "cell_type": "code",
      "source": [
        "plot_loss_accuracy(losses = loss,accuracies=acc)"
      ],
      "metadata": {
        "id": "OIpkljcINvfT"
      },
      "execution_count": null,
      "outputs": []
    },
    {
      "cell_type": "markdown",
      "source": [
        "## VAE Treino"
      ],
      "metadata": {
        "id": "LHf__SzIOIOb"
      }
    },
    {
      "cell_type": "code",
      "source": [
        "train(\n",
        "    model = vae,\n",
        "    criterion = criterion,\n",
        "    optimizer = optimizerAE,\n",
        "    train_loader = train_loader,\n",
        "    epochs = epochs,\n",
        "    modelName = \"VAE\",\n",
        "    scheduler=None,\n",
        "    path = PATH\n",
        "  )"
      ],
      "metadata": {
        "id": "iz-_r7G9NvjH",
        "colab": {
          "base_uri": "https://localhost:8080/"
        },
        "outputId": "7be5c5b0-3c2f-4b59-9061-7762e1bd105c"
      },
      "execution_count": 49,
      "outputs": [
        {
          "output_type": "error",
          "ename": "TypeError",
          "evalue": "ignored",
          "traceback": [
            "\u001b[0;31m---------------------------------------------------------------------------\u001b[0m",
            "\u001b[0;31mTypeError\u001b[0m                                 Traceback (most recent call last)",
            "\u001b[0;32m<ipython-input-49-39f35ee04e0d>\u001b[0m in \u001b[0;36m<cell line: 1>\u001b[0;34m()\u001b[0m\n\u001b[0;32m----> 1\u001b[0;31m train(\n\u001b[0m\u001b[1;32m      2\u001b[0m     \u001b[0mmodel\u001b[0m \u001b[0;34m=\u001b[0m \u001b[0mvae\u001b[0m\u001b[0;34m,\u001b[0m\u001b[0;34m\u001b[0m\u001b[0;34m\u001b[0m\u001b[0m\n\u001b[1;32m      3\u001b[0m     \u001b[0mcriterion\u001b[0m \u001b[0;34m=\u001b[0m \u001b[0mcriterion\u001b[0m\u001b[0;34m,\u001b[0m\u001b[0;34m\u001b[0m\u001b[0;34m\u001b[0m\u001b[0m\n\u001b[1;32m      4\u001b[0m     \u001b[0moptimizer\u001b[0m \u001b[0;34m=\u001b[0m \u001b[0moptimizerAE\u001b[0m\u001b[0;34m,\u001b[0m\u001b[0;34m\u001b[0m\u001b[0;34m\u001b[0m\u001b[0m\n\u001b[1;32m      5\u001b[0m     \u001b[0mtrain_loader\u001b[0m \u001b[0;34m=\u001b[0m \u001b[0mtrain_loader\u001b[0m\u001b[0;34m,\u001b[0m\u001b[0;34m\u001b[0m\u001b[0;34m\u001b[0m\u001b[0m\n",
            "\u001b[0;32m<ipython-input-31-6634895c1b39>\u001b[0m in \u001b[0;36mtrain\u001b[0;34m(model, criterion, optimizer, train_loader, epochs, modelName, scheduler, path)\u001b[0m\n\u001b[1;32m     10\u001b[0m \u001b[0;34m\u001b[0m\u001b[0m\n\u001b[1;32m     11\u001b[0m             \u001b[0;32mif\u001b[0m \u001b[0misinstance\u001b[0m\u001b[0;34m(\u001b[0m\u001b[0mmodel\u001b[0m\u001b[0;34m,\u001b[0m \u001b[0mVAE\u001b[0m\u001b[0;34m)\u001b[0m\u001b[0;34m:\u001b[0m\u001b[0;34m\u001b[0m\u001b[0;34m\u001b[0m\u001b[0m\n\u001b[0;32m---> 12\u001b[0;31m                 \u001b[0moutputs\u001b[0m\u001b[0;34m,\u001b[0m \u001b[0mmean\u001b[0m\u001b[0;34m,\u001b[0m \u001b[0mlog_var\u001b[0m \u001b[0;34m=\u001b[0m \u001b[0mmodel\u001b[0m\u001b[0;34m(\u001b[0m\u001b[0minputs\u001b[0m\u001b[0;34m)\u001b[0m\u001b[0;34m\u001b[0m\u001b[0;34m\u001b[0m\u001b[0m\n\u001b[0m\u001b[1;32m     13\u001b[0m                 \u001b[0mreconstruction_loss\u001b[0m \u001b[0;34m=\u001b[0m \u001b[0mcriterion\u001b[0m\u001b[0;34m(\u001b[0m\u001b[0moutputs\u001b[0m\u001b[0;34m,\u001b[0m \u001b[0minputs\u001b[0m\u001b[0;34m)\u001b[0m\u001b[0;34m\u001b[0m\u001b[0;34m\u001b[0m\u001b[0m\n\u001b[1;32m     14\u001b[0m                 \u001b[0mkld_loss\u001b[0m \u001b[0;34m=\u001b[0m \u001b[0;34m-\u001b[0m\u001b[0;36m0.5\u001b[0m \u001b[0;34m*\u001b[0m \u001b[0mtorch\u001b[0m\u001b[0;34m.\u001b[0m\u001b[0msum\u001b[0m\u001b[0;34m(\u001b[0m\u001b[0;36m1\u001b[0m \u001b[0;34m+\u001b[0m \u001b[0mlog_var\u001b[0m \u001b[0;34m-\u001b[0m \u001b[0mmean\u001b[0m\u001b[0;34m.\u001b[0m\u001b[0mpow\u001b[0m\u001b[0;34m(\u001b[0m\u001b[0;36m2\u001b[0m\u001b[0;34m)\u001b[0m \u001b[0;34m-\u001b[0m \u001b[0mlog_var\u001b[0m\u001b[0;34m.\u001b[0m\u001b[0mexp\u001b[0m\u001b[0;34m(\u001b[0m\u001b[0;34m)\u001b[0m\u001b[0;34m)\u001b[0m\u001b[0;34m\u001b[0m\u001b[0;34m\u001b[0m\u001b[0m\n",
            "\u001b[0;32m/usr/local/lib/python3.10/dist-packages/torch/nn/modules/module.py\u001b[0m in \u001b[0;36m_wrapped_call_impl\u001b[0;34m(self, *args, **kwargs)\u001b[0m\n\u001b[1;32m   1516\u001b[0m             \u001b[0;32mreturn\u001b[0m \u001b[0mself\u001b[0m\u001b[0;34m.\u001b[0m\u001b[0m_compiled_call_impl\u001b[0m\u001b[0;34m(\u001b[0m\u001b[0;34m*\u001b[0m\u001b[0margs\u001b[0m\u001b[0;34m,\u001b[0m \u001b[0;34m**\u001b[0m\u001b[0mkwargs\u001b[0m\u001b[0;34m)\u001b[0m  \u001b[0;31m# type: ignore[misc]\u001b[0m\u001b[0;34m\u001b[0m\u001b[0;34m\u001b[0m\u001b[0m\n\u001b[1;32m   1517\u001b[0m         \u001b[0;32melse\u001b[0m\u001b[0;34m:\u001b[0m\u001b[0;34m\u001b[0m\u001b[0;34m\u001b[0m\u001b[0m\n\u001b[0;32m-> 1518\u001b[0;31m             \u001b[0;32mreturn\u001b[0m \u001b[0mself\u001b[0m\u001b[0;34m.\u001b[0m\u001b[0m_call_impl\u001b[0m\u001b[0;34m(\u001b[0m\u001b[0;34m*\u001b[0m\u001b[0margs\u001b[0m\u001b[0;34m,\u001b[0m \u001b[0;34m**\u001b[0m\u001b[0mkwargs\u001b[0m\u001b[0;34m)\u001b[0m\u001b[0;34m\u001b[0m\u001b[0;34m\u001b[0m\u001b[0m\n\u001b[0m\u001b[1;32m   1519\u001b[0m \u001b[0;34m\u001b[0m\u001b[0m\n\u001b[1;32m   1520\u001b[0m     \u001b[0;32mdef\u001b[0m \u001b[0m_call_impl\u001b[0m\u001b[0;34m(\u001b[0m\u001b[0mself\u001b[0m\u001b[0;34m,\u001b[0m \u001b[0;34m*\u001b[0m\u001b[0margs\u001b[0m\u001b[0;34m,\u001b[0m \u001b[0;34m**\u001b[0m\u001b[0mkwargs\u001b[0m\u001b[0;34m)\u001b[0m\u001b[0;34m:\u001b[0m\u001b[0;34m\u001b[0m\u001b[0;34m\u001b[0m\u001b[0m\n",
            "\u001b[0;32m/usr/local/lib/python3.10/dist-packages/torch/nn/modules/module.py\u001b[0m in \u001b[0;36m_call_impl\u001b[0;34m(self, *args, **kwargs)\u001b[0m\n\u001b[1;32m   1525\u001b[0m                 \u001b[0;32mor\u001b[0m \u001b[0m_global_backward_pre_hooks\u001b[0m \u001b[0;32mor\u001b[0m \u001b[0m_global_backward_hooks\u001b[0m\u001b[0;34m\u001b[0m\u001b[0;34m\u001b[0m\u001b[0m\n\u001b[1;32m   1526\u001b[0m                 or _global_forward_hooks or _global_forward_pre_hooks):\n\u001b[0;32m-> 1527\u001b[0;31m             \u001b[0;32mreturn\u001b[0m \u001b[0mforward_call\u001b[0m\u001b[0;34m(\u001b[0m\u001b[0;34m*\u001b[0m\u001b[0margs\u001b[0m\u001b[0;34m,\u001b[0m \u001b[0;34m**\u001b[0m\u001b[0mkwargs\u001b[0m\u001b[0;34m)\u001b[0m\u001b[0;34m\u001b[0m\u001b[0;34m\u001b[0m\u001b[0m\n\u001b[0m\u001b[1;32m   1528\u001b[0m \u001b[0;34m\u001b[0m\u001b[0m\n\u001b[1;32m   1529\u001b[0m         \u001b[0;32mtry\u001b[0m\u001b[0;34m:\u001b[0m\u001b[0;34m\u001b[0m\u001b[0;34m\u001b[0m\u001b[0m\n",
            "\u001b[0;32m<ipython-input-28-615e76e42ca7>\u001b[0m in \u001b[0;36mforward\u001b[0;34m(self, x)\u001b[0m\n\u001b[1;32m     49\u001b[0m \u001b[0;34m\u001b[0m\u001b[0m\n\u001b[1;32m     50\u001b[0m     \u001b[0;32mdef\u001b[0m \u001b[0mforward\u001b[0m\u001b[0;34m(\u001b[0m\u001b[0mself\u001b[0m\u001b[0;34m,\u001b[0m \u001b[0mx\u001b[0m\u001b[0;34m)\u001b[0m\u001b[0;34m:\u001b[0m\u001b[0;34m\u001b[0m\u001b[0;34m\u001b[0m\u001b[0m\n\u001b[0;32m---> 51\u001b[0;31m       \u001b[0mx\u001b[0m \u001b[0;34m=\u001b[0m \u001b[0madd_noise\u001b[0m\u001b[0;34m(\u001b[0m\u001b[0;34m)\u001b[0m\u001b[0;34m\u001b[0m\u001b[0;34m\u001b[0m\u001b[0m\n\u001b[0m\u001b[1;32m     52\u001b[0m       \u001b[0mx\u001b[0m \u001b[0;34m=\u001b[0m \u001b[0mself\u001b[0m\u001b[0;34m.\u001b[0m\u001b[0mencoder_conv\u001b[0m\u001b[0;34m(\u001b[0m\u001b[0mx\u001b[0m\u001b[0;34m)\u001b[0m\u001b[0;34m\u001b[0m\u001b[0;34m\u001b[0m\u001b[0m\n\u001b[1;32m     53\u001b[0m       \u001b[0mx\u001b[0m \u001b[0;34m=\u001b[0m \u001b[0mx\u001b[0m\u001b[0;34m.\u001b[0m\u001b[0mview\u001b[0m\u001b[0;34m(\u001b[0m\u001b[0mx\u001b[0m\u001b[0;34m.\u001b[0m\u001b[0msize\u001b[0m\u001b[0;34m(\u001b[0m\u001b[0;36m0\u001b[0m\u001b[0;34m)\u001b[0m\u001b[0;34m,\u001b[0m \u001b[0;34m-\u001b[0m\u001b[0;36m1\u001b[0m\u001b[0;34m)\u001b[0m\u001b[0;34m\u001b[0m\u001b[0;34m\u001b[0m\u001b[0m\n",
            "\u001b[0;31mTypeError\u001b[0m: add_noise() missing 1 required positional argument: 'data'"
          ]
        }
      ]
    },
    {
      "cell_type": "code",
      "source": [
        "loss,kld_loss =evaluate_training(\n",
        "    training_loader = train_loader,\n",
        "    loss_fn = criterion,\n",
        "    num_epochs = epochs,\n",
        "    modelName = \"VAE\",\n",
        "    path = PATH\n",
        "  )"
      ],
      "metadata": {
        "id": "krND6gWpNvny"
      },
      "execution_count": null,
      "outputs": []
    },
    {
      "cell_type": "code",
      "source": [
        "plot_loss_accuracy(losses)"
      ],
      "metadata": {
        "id": "NduR2aGuNvrq"
      },
      "execution_count": null,
      "outputs": []
    },
    {
      "cell_type": "code",
      "source": [
        "# @title Texto de título predefinido\n",
        "reconstruction_images_plot(dae,test_loader)"
      ],
      "metadata": {
        "id": "lCJQYUD4oAEW",
        "colab": {
          "base_uri": "https://localhost:8080/"
        },
        "outputId": "2abda15c-44c5-494e-9492-2d783ce8acf1"
      },
      "execution_count": 55,
      "outputs": [
        {
          "output_type": "display_data",
          "data": {
            "text/plain": [
              "<Figure size 2000x400 with 20 Axes>"
            ],
            "image/png": "[encoded data removed]"
          },
          "metadata": {}
        }
      ]
    }
  ],
  "metadata": {
    "language_info": {
      "name": "python"
    },
    "colab": {
      "provenance": [],
      "gpuType": "T4",
      "history_visible": true,
      "include_colab_link": true
    },
    "kernelspec": {
      "name": "python3",
      "display_name": "Python 3"
    },
    "accelerator": "GPU"
  },
  "nbformat": 4,
  "nbformat_minor": 0
}