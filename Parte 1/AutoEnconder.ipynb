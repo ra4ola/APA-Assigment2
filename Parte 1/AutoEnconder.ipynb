{
 "cells": [
  {
   "cell_type": "code",
   "execution_count": null,
   "metadata": {},
   "outputs": [],
   "source": [
    "LR = 0.001\n",
    "EPOCHS = 25\n",
    "NUM_CLASS = 10\n",
    "BATCH_SIZE = 16\n",
    "device = \"cuda\"\n",
    "PATH = '/content/drive/MyDrive/APA/Assigment1/Parte2'\n",
    "img_size = (28, 28)"
   ]
  },
  {
   "cell_type": "code",
   "execution_count": null,
   "metadata": {},
   "outputs": [],
   "source": [
    "from google.colab import drive\n",
    "drive.mount('/content/drive')\n",
    "!mkdir data\n",
    "!mkdir PATH"
   ]
  },
  {
   "cell_type": "markdown",
   "metadata": {},
   "source": [
    "## Importação do DataSet"
   ]
  },
  {
   "cell_type": "code",
   "execution_count": null,
   "metadata": {},
   "outputs": [],
   "source": [
    "import torch\n",
    "from torchvision import datasets, transforms\n",
    "\n",
    "# Define a transform to normalize the data\n",
    "transform = transforms.Compose(\n",
    "    [transforms.ToTensor(),\n",
    "     transforms.Normalize((0.5,), (0.5,))\n",
    "     ])\n",
    "\n",
    "# transform = tt.Compose([\n",
    "#     tt.RandomResizedCrop(224),\n",
    "#     tt.RandomHorizontalFlip(),\n",
    "#     tt.RandomRotation(30),\n",
    "#     tt.ColorJitter(brightness=0.2, contrast=0.2, saturation=0.2, hue=0.1),\n",
    "#     tt.ToTensor(),\n",
    "#     tt.Normalize(mean=[0.485, 0.456, 0.406], std=[0.229, 0.224, 0.225]),\n",
    "# ])\n",
    "\n",
    "batch_size = 64\n",
    "# Download and load the training data\n",
    "trainset = datasets.MNIST('~/.pytorch/MNIST_data/', download=True, train=True, transform=transform)\n",
    "trainloader = torch.utils.data.DataLoader(trainset, batch_size=batch_size, shuffle=True)\n",
    "\n",
    "# Download and load the test data\n",
    "testset = datasets.MNIST('~/.pytorch/MNIST_data/', download=True, train=False, transform=transform)\n",
    "testloader = torch.utils.data.DataLoader(testset, batch_size=batch_size, shuffle=True)\n",
    "\n",
    "\n"
   ]
  },
  {
   "cell_type": "markdown",
   "metadata": {},
   "source": [
    "## Criação do Modelo"
   ]
  },
  {
   "cell_type": "code",
   "execution_count": null,
   "metadata": {},
   "outputs": [],
   "source": [
    "import torch.nn as nn\n",
    "import torch.nn.functional as F\n",
    "\n",
    "class Autoencoder(nn.Module):\n",
    "    def __init__(self,img_size):\n",
    "        super(Autoencoder, self).__init__()\n",
    "        # Encoder\n",
    "        self.encoder_conv1 = nn.Conv2d(in_channels=1, out_channels=8, kernel_size=3, stride=1, padding=1)\n",
    "        self.encoder_conv2 = nn.Conv2d(in_channels=8, out_channels=32, kernel_size=3, stride=1, padding=1)\n",
    "        self.encoder_fc1 = nn.Linear(in_features=32 * img_size[0]*img_size[1], out_features=128)  # Assuming input size is 28x28\n",
    "\n",
    "        # Decoder\n",
    "        self.decoder_fc1 = nn.Linear(in_features=128, out_features=32 * img_size[0]*img_size[1])\n",
    "        self.decoder_conv1 = nn.Conv2d(in_channels=32, out_channels=8, kernel_size=3, stride=1, padding=1)\n",
    "        self.decoder_conv2 = nn.Conv2d(in_channels=8, out_channels=1, kernel_size=3, stride=1, padding=1)\n",
    "\n",
    "    def forward(self, x):\n",
    "        # Encoder\n",
    "        x = F.elu(self.encoder_conv1(x))\n",
    "        x = F.elu(self.encoder_conv2(x))\n",
    "        x = x.view(x.size(0), -1)  # Flatten before fully connected layer\n",
    "        x = F.elu(self.encoder_fc1(x))\n",
    "\n",
    "        # Decoder\n",
    "        x = F.elu(self.decoder_fc1(x))\n",
    "        x = x.view(x.size(0), 32, 28, 28)  # Reshape before transposed convolutions\n",
    "        x = F.elu(self.decoder_conv1(x))\n",
    "        x = torch.sigmoid(self.decoder_conv2(x))  # Sigmoid activation for the last layer\n",
    "\n",
    "        return x\n"
   ]
  },
  {
   "cell_type": "markdown",
   "metadata": {},
   "source": [
    "# Training"
   ]
  },
  {
   "cell_type": "code",
   "execution_count": null,
   "metadata": {},
   "outputs": [],
   "source": [
    "import os\n",
    "import torch.optim as optim\n",
    "\n",
    "def train(model, loss_fn, optimizer,scheduler,training_loader, num_epoch,path,modelName,device=\"cuda\"):\n",
    "\n",
    "  os.makedirs(f\"{PATH}/{path}\", exist_ok=True)\n",
    "\n",
    "  for epoch in range(num_epoch):\n",
    "\n",
    "    training_loss = 0.0\n",
    "    correct = 0\n",
    "    num_examples = 0\n",
    "    num_correct = 0\n",
    "    model.train()\n",
    "\n",
    "    for batch_id, data in enumerate(training_loader, 0):\n",
    "      inputs, labels = data\n",
    "      inputs = inputs.to(device)\n",
    "      labels = labels.to(device)\n",
    "      output = model(inputs)\n",
    "\n",
    "      loss = loss_fn(output, labels)\n",
    "\n",
    "      optimizer.zero_grad()\n",
    "\n",
    "      loss.backward()\n",
    "\n",
    "      optimizer.step()\n",
    "\n",
    "      training_loss += loss.item()\n",
    "\n",
    "      preds = torch.argmax(output, dim=1)\n",
    "      correct = preds.eq(labels)\n",
    "      num_correct += correct.sum().item()\n",
    "      num_examples += correct.shape[0]\n",
    "\n",
    "    accuracy = num_correct / num_examples\n",
    "    training_loss /= len(train_loader)\n",
    "    scheduler.step()\n",
    "\n",
    "    print('Epoch: {}, Training Loss: {:.4f}, Acc: {:.3f}'.format(epoch, training_loss,accuracy*100))\n",
    "\n",
    "    torch.save(model, f\"{PATH}/{path}/{modelName}_epoch={epoch}\") #Gravar o modelo no Disco"
   ]
  },
  {
   "cell_type": "code",
   "execution_count": null,
   "metadata": {},
   "outputs": [],
   "source": [
    "model = Autoencoder([28,28])\n",
    "# Define loss function and optimizer\n",
    "criterion = nn.MSELoss()\n",
    "optimizer = torch.optim.Adam(model.parameters(), lr=lr)\n",
    "scheduler = torch.optim.lr_scheduler.ExponentialLR(optimizer, gamma=0.9)\n",
    "\n",
    "# Move model to device\n",
    "device = torch.device(\"cuda\" if torch.cuda.is_available() else \"cpu\")\n",
    "autoEncoder = model.to(device)"
   ]
  }
 ],
 "metadata": {
  "language_info": {
   "name": "python"
  }
 },
 "nbformat": 4,
 "nbformat_minor": 2
}
